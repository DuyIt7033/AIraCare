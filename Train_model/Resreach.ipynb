{
 "cells": [
  {
   "cell_type": "code",
   "execution_count": null,
   "metadata": {},
   "outputs": [
    {
     "name": "stdout",
     "output_type": "stream",
     "text": [
      "Độ tương phản: 239\n",
      "Tỷ lệ khung hình: 1.0\n",
      "Mật độ cạnh: 3.5197592868088723\n",
      "\n",
      " >> Tất cả các kiểm tra đều hợp lệ, Có thể là ảnh x-quang << \n"
     ]
    }
   ],
   "source": [
    "from PIL import Image\n",
    "import cv2\n",
    "import numpy as np\n",
    "\n",
    "def analyze_image(image_path):\n",
    "    # Đọc ảnh\n",
    "    img = cv2.imread(image_path, cv2.IMREAD_GRAYSCALE)\n",
    "    if img is None:\n",
    "        print(\"Không thể đọc ảnh.\")\n",
    "        return False\n",
    "\n",
    "    # Tính độ tương phản\n",
    "    contrast = img.max() - img.min()\n",
    "    print(f\"Độ tương phản: {contrast}\")\n",
    "    if contrast < 150:  # Ngưỡng độ tương phản thấp cho ảnh X-quang\n",
    "        print(\"Độ tương phản thấp.\")\n",
    "        return False\n",
    "\n",
    "    # Tỷ lệ khung hình\n",
    "    height, width = img.shape\n",
    "    aspect_ratio = width / height\n",
    "    print(f\"Tỷ lệ khung hình: {aspect_ratio}\")\n",
    "    if aspect_ratio < 0.8 or aspect_ratio > 1.2:  # Chỉ chấp nhận ảnh gần vuông\n",
    "        print(\"Tỷ lệ khung hình không hợp lệ.\")\n",
    "        return False\n",
    "\n",
    "    # Mật độ cạnh (Canny Edge)\n",
    "    edges = cv2.Canny(img, threshold1=50, threshold2=150)\n",
    "    edge_density = np.sum(edges) / (height * width)\n",
    "    print(f\"Mật độ cạnh: {edge_density}\")\n",
    "    if edge_density < 3 or edge_density > 50:  # Mật độ cạnh ngoài ngưỡng\n",
    "        print(\"Mật độ cạnh không hợp lệ.\")\n",
    "        return False\n",
    "\n",
    "    return True\n",
    "\n",
    "# Gọi hàm với đường dẫn ảnh\n",
    "image_path = \"D:/x-ray_split/test/1_covid19/COVID-261.png\"\n",
    "if analyze_image(image_path):\n",
    "    print(\"\\n >> Tất cả các kiểm tra đều hợp lệ, Có thể là ảnh x-quang << \")\n",
    "else:\n",
    "    print(\"\\n >> Không phải ảnh x-quang\")"
   ]
  }
 ],
 "metadata": {
  "kernelspec": {
   "display_name": "Python 3",
   "language": "python",
   "name": "python3"
  },
  "language_info": {
   "codemirror_mode": {
    "name": "ipython",
    "version": 3
   },
   "file_extension": ".py",
   "mimetype": "text/x-python",
   "name": "python",
   "nbconvert_exporter": "python",
   "pygments_lexer": "ipython3",
   "version": "3.10.8"
  }
 },
 "nbformat": 4,
 "nbformat_minor": 2
}
