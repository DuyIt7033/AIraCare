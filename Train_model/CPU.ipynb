{
 "cells": [
  {
   "cell_type": "code",
   "execution_count": 3,
   "metadata": {},
   "outputs": [
    {
     "name": "stdout",
     "output_type": "stream",
     "text": [
      "Device Name: /physical_device:CPU:0, Device Type: CPU\n",
      "Device Name: /physical_device:GPU:0, Device Type: GPU\n",
      "TensorFlow is using GPU for training.\n"
     ]
    }
   ],
   "source": [
    "import tensorflow as tf\n",
    "\n",
    "# Kiểm tra các thiết bị có sẵn\n",
    "devices = tf.config.list_physical_devices()\n",
    "for device in devices:\n",
    "    print(f\"Device Name: {device.name}, Device Type: {device.device_type}\")\n",
    "\n",
    "# Kiểm tra thiết bị cụ thể đang sử dụng\n",
    "if tf.config.list_physical_devices('GPU'):\n",
    "    print(\"TensorFlow is using GPU for training.\")\n",
    "else:\n",
    "    print(\"TensorFlow is using CPU for training.\")\n"
   ]
  },
  {
   "cell_type": "code",
   "execution_count": 2,
   "metadata": {},
   "outputs": [
    {
     "name": "stdout",
     "output_type": "stream",
     "text": [
      "Số lượng GPU có sẵn: 1\n",
      "Tên GPU: /physical_device:GPU:0\n"
     ]
    }
   ],
   "source": [
    "import tensorflow as tf\n",
    "\n",
    "# Kiểm tra số lượng GPU có sẵn\n",
    "gpus = tf.config.list_physical_devices('GPU')\n",
    "if gpus:\n",
    "    print(\"Số lượng GPU có sẵn:\", len(gpus))\n",
    "    for gpu in gpus:\n",
    "        print(\"Tên GPU:\", gpu.name)\n",
    "else:\n",
    "    print(\"Không có GPU nào được phát hiện.\")\n"
   ]
  },
  {
   "cell_type": "code",
   "execution_count": 1,
   "metadata": {},
   "outputs": [
    {
     "name": "stdout",
     "output_type": "stream",
     "text": [
      "Thông tin chi tiết của GPU /physical_device:GPU:0:\n",
      "  device_name: NVIDIA GeForce GTX 1650 with Max-Q Design\n",
      "  compute_capability: (7, 5)\n"
     ]
    }
   ],
   "source": [
    "import tensorflow as tf\n",
    "\n",
    "# Liệt kê tất cả các GPU và thông tin chi tiết\n",
    "gpus = tf.config.list_physical_devices('GPU')\n",
    "for gpu in gpus:\n",
    "    print(f\"Thông tin chi tiết của GPU {gpu.name}:\")\n",
    "    details = tf.config.experimental.get_device_details(gpu)\n",
    "    for key, value in details.items():\n",
    "        print(f\"  {key}: {value}\")\n"
   ]
  },
  {
   "cell_type": "code",
   "execution_count": 2,
   "metadata": {},
   "outputs": [
    {
     "name": "stdout",
     "output_type": "stream",
     "text": [
      "ipython==8.27.0\n",
      "jupyter-client==8.6.3\n",
      "ipykernel==6.29.5\n",
      "tornado==6.4.1\n",
      "traitlets==5.14.3\n",
      "jupyter-core==5.7.2\n",
      "decorator==5.1.1\n",
      "platformdirs==4.3.6\n",
      "prompt-toolkit==3.0.47\n",
      "asttokens==2.4.1\n",
      "executing==2.1.0\n",
      "debugpy==1.8.5\n",
      "nest-asyncio==1.6.0\n",
      "exceptiongroup==1.2.2\n",
      "jedi==0.19.1\n",
      "parso==0.8.4\n",
      "stack-data==0.6.3\n",
      "wcwidth==0.2.13\n",
      "pure-eval==0.2.3\n",
      "comm==0.2.2\n",
      "matplotlib-inline==0.1.7\n",
      "pytz==2024.1\n",
      "jsonschema-specifications==2023.12.1\n",
      "certifi==2023.11.17\n",
      "tzdata==2023.3\n",
      "pywin32==306\n",
      "setuptools==63.2.0\n",
      "pyzmq==25.1.2\n",
      "flatbuffers==24.3.25\n",
      "gevent==24.2.1\n",
      "pip==24.2\n",
      "packaging==24.1\n",
      "attrs==23.2.0\n",
      "libclang==18.1.1\n",
      "rich==13.8.0\n",
      "pillow==10.4.0\n",
      "click==8.1.7\n",
      "zope.interface==6.2\n",
      "psutil==5.9.4\n",
      "cachetools==5.5.0\n",
      "Django==5.0.6\n",
      "zope.event==5.0\n",
      "tqdm==4.66.5\n",
      "fonttools==4.53.1\n",
      "jsonschema==4.21.1\n",
      "opencv-python==4.10.0.84\n",
      "opencv-python-headless==4.10.0.84\n",
      "rsa==4.9\n",
      "typing-extensions==4.8.0\n",
      "Flask-Cors==4.0.0\n",
      "protobuf==3.19.0\n",
      "h5py==3.11.0\n",
      "SpeechRecognition==3.10.1\n",
      "matplotlib==3.9.2\n",
      "asgiref==3.7.2\n",
      "Markdown==3.7\n",
      "idna==3.6\n",
      "threadpoolctl==3.5.0\n",
      "charset-normalizer==3.3.2\n",
      "opt-einsum==3.3.0\n",
      "oauthlib==3.2.2\n",
      "pyparsing==3.1.4\n",
      "Jinja2==3.1.3\n",
      "greenlet==3.0.3\n",
      "flask==3.0.2\n",
      "werkzeug==3.0.1\n",
      "markdown-it-py==3.0.0\n",
      "google-auth==2.34.0\n",
      "requests==2.31.0\n",
      "locust==2.24.1\n",
      "pycparser==2.21\n",
      "pygments==2.18.0\n",
      "tensorflow==2.10.1\n",
      "tensorflow-gpu==2.10.1\n",
      "keras==2.10.0\n",
      "tensorboard==2.10.0\n",
      "tensorflow-estimator==2.10.0\n",
      "python-dateutil==2.9.0.post0\n",
      "scapy==2.5.0\n",
      "termcolor==2.4.0\n",
      "pandas==2.2.2\n",
      "mysqlclient==2.2.0\n",
      "MarkupSafe==2.1.5\n",
      "itsdangerous==2.1.2\n",
      "pygame==2.1.2\n",
      "absl-py==2.1.0\n",
      "urllib3==2.1.0\n",
      "geventhttpclient==2.0.12\n",
      "tomli==2.0.1\n",
      "requests-oauthlib==2.0.0\n",
      "grpcio==1.66.1\n",
      "numpy==1.26.4\n",
      "cffi==1.16.0\n",
      "six==1.16.0\n",
      "wrapt==1.16.0\n",
      "scipy==1.14.1\n",
      "tensorboard-plugin-wit==1.8.1\n",
      "pynput==1.7.6\n",
      "blinker==1.7.0\n",
      "ConfigArgParse==1.7\n",
      "astunparse==1.6.3\n",
      "scikit-learn==1.5.1\n",
      "kiwisolver==1.4.7\n",
      "joblib==1.4.2\n",
      "contourpy==1.3.0\n",
      "Keras-Preprocessing==1.1.2\n",
      "Brotli==1.1.0\n",
      "msgpack==1.0.8\n",
      "wheel==0.43.0\n",
      "referencing==0.34.0\n",
      "tensorflow-io-gcs-filesystem==0.31.0\n",
      "pydub==0.25.1\n",
      "rpds-py==0.18.0\n",
      "seaborn==0.13.2\n",
      "cycler==0.12.1\n",
      "optree==0.12.1\n",
      "toml==0.10.2\n",
      "Flask-Login==0.6.3\n",
      "pyasn1==0.6.1\n",
      "tensorboard-data-server==0.6.1\n",
      "colorama==0.4.6\n",
      "google-auth-oauthlib==0.4.6\n",
      "sqlparse==0.4.4\n",
      "pyasn1-modules==0.4.1\n",
      "gast==0.4.0\n",
      "ml-dtypes==0.4.0\n",
      "google-pasta==0.2.0\n",
      "mdurl==0.1.2\n",
      "pyproject-toml==0.0.10\n",
      "namex==0.0.8\n",
      "roundrobin==0.0.4\n"
     ]
    }
   ],
   "source": [
    "\n",
    "import pkg_resources\n",
    "\n",
    "for dist in pkg_resources.working_set:\n",
    "    print(f\"{dist.project_name}=={dist.version}\")\n",
    "\n"
   ]
  }
 ],
 "metadata": {
  "kernelspec": {
   "display_name": "Python 3",
   "language": "python",
   "name": "python3"
  },
  "language_info": {
   "codemirror_mode": {
    "name": "ipython",
    "version": 3
   },
   "file_extension": ".py",
   "mimetype": "text/x-python",
   "name": "python",
   "nbconvert_exporter": "python",
   "pygments_lexer": "ipython3",
   "version": "3.10.8"
  }
 },
 "nbformat": 4,
 "nbformat_minor": 2
}
