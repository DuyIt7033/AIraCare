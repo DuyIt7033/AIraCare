{
 "cells": [
  {
   "cell_type": "code",
   "execution_count": null,
   "metadata": {},
   "outputs": [
    {
     "name": "stdout",
     "output_type": "stream",
     "text": [
      "Chia dữ liệu thành công!\n"
     ]
    }
   ],
   "source": [
    "import os\n",
    "import shutil\n",
    "import random\n",
    "\n",
    "# Đường dẫn đến thư mục gốc dữ liệu của bạn\n",
    "original_dataset_dir = 'E:/x-ray'\n",
    "base_dir = 'D:/x-ray_split'\n",
    "\n",
    "# Tạo thư mục gốc cho dữ liệu đã chia\n",
    "os.makedirs(base_dir, exist_ok=True)\n",
    "\n",
    "# Tạo các thư mục con cho train, validation, và test\n",
    "train_dir = os.path.join(base_dir, 'train')\n",
    "os.makedirs(train_dir, exist_ok=True)\n",
    "val_dir = os.path.join(base_dir, 'val')\n",
    "os.makedirs(val_dir, exist_ok=True)\n",
    "test_dir = os.path.join(base_dir, 'test')\n",
    "os.makedirs(test_dir, exist_ok=True)\n",
    "\n",
    "# Các lớp (các thư mục con của original_dataset_dir)\n",
    "classes = ['0_normal', '1_covid19', '2_Pneumonia']\n",
    "\n",
    "for class_name in classes:\n",
    "    # Tạo thư mục cho mỗi lớp trong các tập train, val, test\n",
    "    os.makedirs(os.path.join(train_dir, class_name), exist_ok=True)\n",
    "    os.makedirs(os.path.join(val_dir, class_name), exist_ok=True)\n",
    "    os.makedirs(os.path.join(test_dir, class_name), exist_ok=True)\n",
    "\n",
    "    # Lấy tất cả các tệp trong thư mục lớp ban đầu\n",
    "    src_dir = os.path.join(original_dataset_dir, class_name)\n",
    "    all_files = os.listdir(src_dir)\n",
    "    \n",
    "    # Shuffle dữ liệu để chia ngẫu nhiên\n",
    "    random.shuffle(all_files)\n",
    "\n",
    "    # Chia dữ liệu theo tỉ lệ 75% train, 15% val, 10% test\n",
    "    train_split = int(0.75 * len(all_files))\n",
    "    val_split = int(0.90 * len(all_files))\n",
    "\n",
    "    train_files = all_files[:train_split]\n",
    "    val_files = all_files[train_split:val_split]\n",
    "    test_files = all_files[val_split:]\n",
    "\n",
    "    # Sao chép các tệp vào các thư mục tương ứng\n",
    "    for fname in train_files:\n",
    "        src = os.path.join(src_dir, fname)\n",
    "        dst = os.path.join(train_dir, class_name, fname)\n",
    "        shutil.copyfile(src, dst)\n",
    "\n",
    "    for fname in val_files:\n",
    "        src = os.path.join(src_dir, fname)\n",
    "        dst = os.path.join(val_dir, class_name, fname)\n",
    "        shutil.copyfile(src, dst)\n",
    "\n",
    "    for fname in test_files:\n",
    "        src = os.path.join(src_dir, fname)\n",
    "        dst = os.path.join(test_dir, class_name, fname)\n",
    "        shutil.copyfile(src, dst)\n",
    "\n",
    "print(\"Chia dữ liệu thành công!\")\n"
   ]
  }
 ],
 "metadata": {
  "kernelspec": {
   "display_name": "Python 3",
   "language": "python",
   "name": "python3"
  },
  "language_info": {
   "codemirror_mode": {
    "name": "ipython",
    "version": 3
   },
   "file_extension": ".py",
   "mimetype": "text/x-python",
   "name": "python",
   "nbconvert_exporter": "python",
   "pygments_lexer": "ipython3",
   "version": "3.10.8"
  }
 },
 "nbformat": 4,
 "nbformat_minor": 2
}
